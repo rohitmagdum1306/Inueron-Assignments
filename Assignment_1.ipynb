{
 "cells": [
  {
   "attachments": {},
   "cell_type": "markdown",
   "metadata": {},
   "source": [
    "Q1)  In the below elements which of them are values or an expression? eg:- values can be\n",
    "integer or string and expressions will be mathematical operators."
   ]
  },
  {
   "attachments": {},
   "cell_type": "markdown",
   "metadata": {},
   "source": [
    "'hello' (string)                                 \n",
    "-87.8 (float)\n",
    "6 (integer)\n",
    "\n",
    "\n",
    "(multiplication)  *\n",
    "(subtraction) -\n",
    "(division) /\n",
    "(addition) +"
   ]
  },
  {
   "attachments": {},
   "cell_type": "markdown",
   "metadata": {},
   "source": [
    "Q2) What is the difference between string and variable?\n",
    "\n",
    "\n",
    "A string is a data type in programming that represents a sequence of characters.\n",
    "A variable is a named storage location in a program that can hold a value.\n",
    "\n",
    "A string is a specific type of data that represents textual information, while a variable is a placeholder for storing and accessing different types of data, including strings."
   ]
  },
  {
   "attachments": {},
   "cell_type": "markdown",
   "metadata": {},
   "source": [
    "Q3) Describe three different data types.\n",
    "\n",
    "\n",
    "Integer (int):\n",
    "An integer is a data type that represents whole numbers without any decimal points. It can be either positive or negative. Integers are used to perform mathematical operations like addition, subtraction, multiplication, and division. Examples of integers are -10, 0, 5, and 100.\n",
    "\n",
    "String (str):\n",
    "A string is a data type used to represent a sequence of characters, such as letters, digits, and symbols. Strings are enclosed in quotation marks, either single ('') or double (\"\"). They are used to store and manipulate textual information. Examples of strings are \"hello\", \"123\", and \"OpenAI\".\n",
    "\n",
    "Boolean (bool):\n",
    "A boolean is a data type that represents logical values, either True or False. Booleans are used for comparisons, conditional statements, and controlling the flow of a program. They are often the result of a logical operation or comparison. For example, a comparison like 5 > 3 would result in a boolean value of True, while 2 == 7 would result in False."
   ]
  },
  {
   "attachments": {},
   "cell_type": "markdown",
   "metadata": {},
   "source": [
    "Q4) What is an expression made up of? What do all expressions do?\n",
    "\n",
    "An expression is made up of operators, operands, and sometimes function calls, which are combined together to produce a value. Here's a breakdown of the components:\n",
    "\n",
    "Operators: Operators perform specific operations on the operands to produce a result. Examples of operators include mathematical operators (+, -, *, /), comparison operators (>, <, ==), logical operators (and, or, not), and assignment operators (=).\n",
    "\n",
    "Operands: Operands are the values or variables on which the operators act. They can be literals (specific values like numbers or strings) or variables (placeholders that store values). For example, in the expression 5 + 3, the operands are 5 and 3.\n",
    "\n",
    "Function calls: Functions are reusable blocks of code that perform specific tasks. In some expressions, function calls can be used as operands or as part of the expression itself. Functions may take arguments (values passed to them) and return a value.\n",
    "\n",
    "Expressions are a fundamental part of programming, and they serve various purposes. Here's what expressions typically do:\n",
    "\n",
    "Compute values: Expressions evaluate and compute a value based on the operators and operands used. For example, the expression 5 + 3 evaluates to 8.\n",
    "\n",
    "Perform operations: Expressions combine operators to perform specific operations. This can include mathematical calculations, logical evaluations, string manipulations, and more.\n",
    "\n",
    "Assign values: Expressions can be used in assignment statements to assign a computed value to a variable. For example, x = 5 + 3 assigns the value 8 to the variable x.\n",
    "\n",
    "Control flow: Expressions are often used in conditional statements (if, while, for) to determine the flow of execution in a program. The result of an expression can determine whether a block of code is executed or not.\n",
    "\n",
    "In summary, expressions are composed of operators, operands, and sometimes function calls. They compute values, perform operations, assign values, and control the flow of a program. They are essential for manipulating and transforming data in programming.\n",
    "\n",
    "\n",
    "\n",
    "\n",
    "\n"
   ]
  },
  {
   "attachments": {},
   "cell_type": "markdown",
   "metadata": {},
   "source": [
    "Q6) After running the following code, what does the variable bacon contain?\n",
    "bacon = 22\n",
    "bacon + 1\n",
    "\n",
    "\n",
    "23"
   ]
  },
  {
   "attachments": {},
   "cell_type": "markdown",
   "metadata": {},
   "source": [
    "Q7) What should the values of the following two terms be?\n",
    "'spam'+'spamspam': 'spamspamspam'\n",
    "\n",
    "'spam'*3 : 'spamspamspam'"
   ]
  },
  {
   "attachments": {},
   "cell_type": "markdown",
   "metadata": {},
   "source": [
    "Q8) Why does this expression cause an error? How can you fix it?\n",
    "&#39;I have eaten &#39; + 99 + &#39; burritos.&#39;\n",
    "\n",
    "\n",
    "\n",
    "\n",
    "The expression 'I have eaten ' + 99 + ' burritos.' causes an error because it is attempting to concatenate a string ('I have eaten ') with an integer (99). In many programming languages, including Python, concatenating different data types directly without conversion is not allowed."
   ]
  }
 ],
 "metadata": {
  "kernelspec": {
   "display_name": "Python 3",
   "language": "python",
   "name": "python3"
  },
  "language_info": {
   "name": "python",
   "version": "3.11.3"
  },
  "orig_nbformat": 4
 },
 "nbformat": 4,
 "nbformat_minor": 2
}
