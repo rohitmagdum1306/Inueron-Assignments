{
 "cells": [
  {
   "attachments": {},
   "cell_type": "markdown",
   "metadata": {},
   "source": [
    "1.What are the two values of the Boolean data type? How do you write them?\n",
    "\n",
    "\n",
    "The two values of the Boolean data type are:\n",
    "\n",
    "True: It represents a logical true value. In most programming languages, including Python, it is written as True.\n",
    "\n",
    "False: It represents a logical false value. In most programming languages, including Python, it is written as False."
   ]
  },
  {
   "attachments": {},
   "cell_type": "markdown",
   "metadata": {},
   "source": [
    "2. What are the three different types of Boolean operators?\n",
    "\n",
    "The three different types of Boolean operators are:\n",
    "\n",
    "AND Operator (&& or and):\n",
    "The AND operator takes two Boolean operands and returns True if both operands are True. If either or both operands are False, it returns False. In Python, the AND operator can be represented using and.\n",
    "\n",
    "OR Operator (|| or or):\n",
    "The OR operator takes two Boolean operands and returns True if at least one of the operands is True. If both operands are False, it returns False. In Python, the OR operator can be represented using or.\n",
    "\n",
    "NOT Operator (! or not):\n",
    "The NOT operator takes a single Boolean operand and negates its value. If the operand is True, it returns False, and if the operand is False, it returns True. In Python, the NOT operator can be represented using not."
   ]
  },
  {
   "attachments": {},
   "cell_type": "markdown",
   "metadata": {},
   "source": [
    "3. Make a list of each Boolean operator&#39;s truth tables (i.e. every possible combination of Boolean\n",
    "values for the operator and what it evaluate ).\n",
    "\n",
    "AND Operator (&& or and):\n",
    "\n",
    "Operand 1\tOperand 2\tResult\n",
    "True\tTrue\tTrue\n",
    "True\tFalse\tFalse\n",
    "False\tTrue\tFalse\n",
    "False\tFalse\tFalse\n",
    "\n",
    "\n",
    "OR Operator (|| or or):\n",
    "Operand 1\tOperand 2\tResult\n",
    "True\tTrue\tTrue\n",
    "True\tFalse\tTrue\n",
    "False\tTrue\tTrue\n",
    "False\tFalse\tFalse\n",
    "\n",
    "NOT Operator (! or not):\n",
    "Operand\tResult\n",
    "True\tFalse\n",
    "False\tTrue\n",
    "\n",
    "\n"
   ]
  },
  {
   "attachments": {},
   "cell_type": "markdown",
   "metadata": {},
   "source": [
    "4. What are the values of the following expressions?\n",
    "(5 &gt; 4) and (3 == 5)\n",
    "not (5 &gt; 4)\n",
    "(5 &gt; 4) or (3 == 5)\n",
    "not ((5 &gt; 4) or (3 == 5))\n",
    "(True and True) and (True == False)\n",
    "(not False) or (not True)\n",
    "\n",
    "\n",
    "(5 > 4) and (3 == 5) evaluates to False.\n",
    "not (5 > 4) evaluates to False.\n",
    "(5 > 4) or (3 == 5) evaluates to True.\n",
    "not ((5 > 4) or (3 == 5)) evaluates to False.\n",
    "(True and True) and (True == False) evaluates to False.\n",
    "(not False) or (not True) evaluates to True."
   ]
  },
  {
   "attachments": {},
   "cell_type": "markdown",
   "metadata": {},
   "source": [
    "5. What are the six comparison operators?\n",
    "\n",
    "Equal to (==): Compares if two values are equal and returns True if they are, and False otherwise. For example, 3 == 3 evaluates to True.\n",
    "\n",
    "Not equal to (!=): Compares if two values are not equal and returns True if they are not, and False if they are equal. For example, 3 != 4 evaluates to True.\n",
    "\n",
    "Greater than (>): Checks if the value on the left is greater than the value on the right and returns True if it is, and False otherwise. For example, 5 > 3 evaluates to True.\n",
    "\n",
    "Less than (<): Checks if the value on the left is less than the value on the right and returns True if it is, and False otherwise. For example, 2 < 4 evaluates to True.\n",
    "\n",
    "Greater than or equal to (>=): Checks if the value on the left is greater than or equal to the value on the right and returns True if it is, and False otherwise. For example, 5 >= 5 evaluates to True.\n",
    "\n",
    "Less than or equal to (<=): Checks if the value on the left is less than or equal to the value on the right and returns True if it is, and False otherwise. For example, 3 <= 5 evaluates to True."
   ]
  },
  {
   "cell_type": "markdown",
   "metadata": {},
   "source": []
  },
  {
   "cell_type": "code",
   "execution_count": null,
   "metadata": {},
   "outputs": [],
   "source": []
  }
 ],
 "metadata": {
  "language_info": {
   "name": "python"
  },
  "orig_nbformat": 4
 },
 "nbformat": 4,
 "nbformat_minor": 2
}
